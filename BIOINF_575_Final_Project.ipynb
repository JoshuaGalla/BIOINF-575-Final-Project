{
 "cells": [
  {
   "cell_type": "code",
   "execution_count": 1,
   "id": "f8aa49dc-9f4b-4495-932e-8da1c542a27d",
   "metadata": {
    "tags": []
   },
   "outputs": [],
   "source": [
    "import pandas as pd\n",
    "import GEOparse\n",
    "from sklearn.cluster import KMeans\n",
    "from sklearn.metrics import accuracy_score\n",
    "import matplotlib.pyplot as plt\n",
    "from scipy.stats import ttest_ind\n",
    "import numpy as np"
   ]
  },
  {
   "cell_type": "markdown",
   "id": "e8faa661-a50e-4609-8b55-bbe2f3736c04",
   "metadata": {},
   "source": [
    "------------------------------------------------------------------------------------------------------------------------------"
   ]
  },
  {
   "cell_type": "markdown",
   "id": "48a4b391-4c86-4e6c-ab46-c61c259e1e78",
   "metadata": {},
   "source": [
    "__Part 1: Loading the Data:__"
   ]
  },
  {
   "cell_type": "markdown",
   "id": "7c20b451-46d6-4b3e-9571-1396c7b64e4c",
   "metadata": {},
   "source": [
    "In the code cells below we load, organize, and manipulate our GSE data by creating a dataframe that contains each specific GSM sample as the row index and it's respective genetic expression at a specific gene, which is set as the column index. Additionally, we connect each sample ID to its respective cancer type (either Adenocarcinoma or Squamous Cell Carcinoma)."
   ]
  },
  {
   "cell_type": "code",
   "execution_count": 2,
   "id": "4bbfd7a4-1b84-40f7-8f50-926bd2488ac6",
   "metadata": {
    "collapsed": true,
    "jupyter": {
     "outputs_hidden": true
    },
    "tags": []
   },
   "outputs": [
    {
     "name": "stderr",
     "output_type": "stream",
     "text": [
      "07-Dec-2023 16:57:55 INFO GEOparse - Parsing ./GSE10245_family.soft.gz: \n",
      "07-Dec-2023 16:57:55 DEBUG GEOparse - DATABASE: GeoMiame\n",
      "07-Dec-2023 16:57:55 DEBUG GEOparse - SERIES: GSE10245\n",
      "07-Dec-2023 16:57:55 DEBUG GEOparse - PLATFORM: GPL570\n",
      "/Users/joshuagalla/anaconda3/lib/python3.11/site-packages/GEOparse/GEOparse.py:401: DtypeWarning: Columns (2) have mixed types. Specify dtype option on import or set low_memory=False.\n",
      "  return read_csv(StringIO(data), index_col=None, sep=\"\\t\")\n",
      "07-Dec-2023 16:57:59 DEBUG GEOparse - SAMPLE: GSM258551\n",
      "07-Dec-2023 16:57:59 DEBUG GEOparse - SAMPLE: GSM258552\n",
      "07-Dec-2023 16:58:00 DEBUG GEOparse - SAMPLE: GSM258553\n",
      "07-Dec-2023 16:58:00 DEBUG GEOparse - SAMPLE: GSM258554\n",
      "07-Dec-2023 16:58:00 DEBUG GEOparse - SAMPLE: GSM258555\n",
      "07-Dec-2023 16:58:00 DEBUG GEOparse - SAMPLE: GSM258556\n",
      "07-Dec-2023 16:58:00 DEBUG GEOparse - SAMPLE: GSM258557\n",
      "07-Dec-2023 16:58:00 DEBUG GEOparse - SAMPLE: GSM258558\n",
      "07-Dec-2023 16:58:00 DEBUG GEOparse - SAMPLE: GSM258559\n",
      "07-Dec-2023 16:58:01 DEBUG GEOparse - SAMPLE: GSM258560\n",
      "07-Dec-2023 16:58:01 DEBUG GEOparse - SAMPLE: GSM258561\n",
      "07-Dec-2023 16:58:01 DEBUG GEOparse - SAMPLE: GSM258562\n",
      "07-Dec-2023 16:58:01 DEBUG GEOparse - SAMPLE: GSM258563\n",
      "07-Dec-2023 16:58:02 DEBUG GEOparse - SAMPLE: GSM258564\n",
      "07-Dec-2023 16:58:02 DEBUG GEOparse - SAMPLE: GSM258565\n",
      "07-Dec-2023 16:58:02 DEBUG GEOparse - SAMPLE: GSM258566\n",
      "07-Dec-2023 16:58:03 DEBUG GEOparse - SAMPLE: GSM258567\n",
      "07-Dec-2023 16:58:03 DEBUG GEOparse - SAMPLE: GSM258568\n",
      "07-Dec-2023 16:58:03 DEBUG GEOparse - SAMPLE: GSM258569\n",
      "07-Dec-2023 16:58:03 DEBUG GEOparse - SAMPLE: GSM258570\n",
      "07-Dec-2023 16:58:04 DEBUG GEOparse - SAMPLE: GSM258571\n",
      "07-Dec-2023 16:58:04 DEBUG GEOparse - SAMPLE: GSM258572\n",
      "07-Dec-2023 16:58:04 DEBUG GEOparse - SAMPLE: GSM258573\n",
      "07-Dec-2023 16:58:04 DEBUG GEOparse - SAMPLE: GSM258574\n",
      "07-Dec-2023 16:58:05 DEBUG GEOparse - SAMPLE: GSM258575\n",
      "07-Dec-2023 16:58:05 DEBUG GEOparse - SAMPLE: GSM258576\n",
      "07-Dec-2023 16:58:05 DEBUG GEOparse - SAMPLE: GSM258577\n",
      "07-Dec-2023 16:58:05 DEBUG GEOparse - SAMPLE: GSM258578\n",
      "07-Dec-2023 16:58:06 DEBUG GEOparse - SAMPLE: GSM258579\n",
      "07-Dec-2023 16:58:06 DEBUG GEOparse - SAMPLE: GSM258580\n",
      "07-Dec-2023 16:58:06 DEBUG GEOparse - SAMPLE: GSM258581\n",
      "07-Dec-2023 16:58:06 DEBUG GEOparse - SAMPLE: GSM258582\n",
      "07-Dec-2023 16:58:06 DEBUG GEOparse - SAMPLE: GSM258583\n",
      "07-Dec-2023 16:58:07 DEBUG GEOparse - SAMPLE: GSM258584\n",
      "07-Dec-2023 16:58:07 DEBUG GEOparse - SAMPLE: GSM258585\n",
      "07-Dec-2023 16:58:07 DEBUG GEOparse - SAMPLE: GSM258586\n",
      "07-Dec-2023 16:58:07 DEBUG GEOparse - SAMPLE: GSM258587\n",
      "07-Dec-2023 16:58:08 DEBUG GEOparse - SAMPLE: GSM258588\n",
      "07-Dec-2023 16:58:08 DEBUG GEOparse - SAMPLE: GSM258589\n",
      "07-Dec-2023 16:58:08 DEBUG GEOparse - SAMPLE: GSM258590\n",
      "07-Dec-2023 16:58:09 DEBUG GEOparse - SAMPLE: GSM258591\n",
      "07-Dec-2023 16:58:09 DEBUG GEOparse - SAMPLE: GSM258592\n",
      "07-Dec-2023 16:58:09 DEBUG GEOparse - SAMPLE: GSM258593\n",
      "07-Dec-2023 16:58:10 DEBUG GEOparse - SAMPLE: GSM258594\n",
      "07-Dec-2023 16:58:10 DEBUG GEOparse - SAMPLE: GSM258595\n",
      "07-Dec-2023 16:58:10 DEBUG GEOparse - SAMPLE: GSM258596\n",
      "07-Dec-2023 16:58:11 DEBUG GEOparse - SAMPLE: GSM258597\n",
      "07-Dec-2023 16:58:11 DEBUG GEOparse - SAMPLE: GSM258598\n",
      "07-Dec-2023 16:58:11 DEBUG GEOparse - SAMPLE: GSM258599\n",
      "07-Dec-2023 16:58:11 DEBUG GEOparse - SAMPLE: GSM258600\n",
      "07-Dec-2023 16:58:12 DEBUG GEOparse - SAMPLE: GSM258601\n",
      "07-Dec-2023 16:58:12 DEBUG GEOparse - SAMPLE: GSM258602\n",
      "07-Dec-2023 16:58:12 DEBUG GEOparse - SAMPLE: GSM258603\n",
      "07-Dec-2023 16:58:13 DEBUG GEOparse - SAMPLE: GSM258604\n",
      "07-Dec-2023 16:58:13 DEBUG GEOparse - SAMPLE: GSM258605\n",
      "07-Dec-2023 16:58:13 DEBUG GEOparse - SAMPLE: GSM258606\n",
      "07-Dec-2023 16:58:14 DEBUG GEOparse - SAMPLE: GSM258607\n",
      "07-Dec-2023 16:58:14 DEBUG GEOparse - SAMPLE: GSM258608\n"
     ]
    }
   ],
   "source": [
    "#Loading GSE data file using the GEOparse package and set data as gse_file variable\n",
    "#Loading phenotype data for each sample in GSE file and set as metadata variable\n",
    "\n",
    "gse_file = GEOparse.get_GEO(filepath=\"./GSE10245_family.soft.gz\")\n",
    "metadata = gse_file.phenotype_data\n",
    "\n",
    "#A Dtypewarning will appear due to GSE data having columns of mixed types - can ignore and continue"
   ]
  },
  {
   "cell_type": "code",
   "execution_count": 3,
   "id": "ac50a942-ed83-408c-bfb9-c32f99c88485",
   "metadata": {
    "tags": []
   },
   "outputs": [],
   "source": [
    "#Set sample ID's (some iteration of GSM...) as column header under the label \"ID_REF\" and set this to variable col_names\n",
    "\n",
    "col_names = gse_file.gsms['GSM258562'].table[\"ID_REF\"]"
   ]
  },
  {
   "cell_type": "code",
   "execution_count": 4,
   "id": "2689eea3-bfd5-46e6-b83e-3d0d94b8193a",
   "metadata": {
    "collapsed": true,
    "jupyter": {
     "outputs_hidden": true
    },
    "tags": []
   },
   "outputs": [
    {
     "name": "stderr",
     "output_type": "stream",
     "text": [
      "/var/folders/tb/vcvrpcfx3wx9c6vw189bjn3m0000gn/T/ipykernel_32841/2413638521.py:5: SettingWithCopyWarning: \n",
      "A value is trying to be set on a copy of a slice from a DataFrame.\n",
      "Try using .loc[row_indexer,col_indexer] = value instead\n",
      "\n",
      "See the caveats in the documentation: https://pandas.pydata.org/pandas-docs/stable/user_guide/indexing.html#returning-a-view-versus-a-copy\n",
      "  phenotypes[\"Type\"] = ['Adenocarcinoma' if \"AC\" in x else 'Squamous Cell Carcinoma' for x in phenotypes['title']]\n"
     ]
    }
   ],
   "source": [
    "#Selecting for lung cancer type (either Adenocarcinoma or Squamous Cell Carcinoma) from metadata and connecting it to \n",
    "#its respective sample ID\n",
    "\n",
    "phenotypes = metadata.iloc[:,[0,1]]\n",
    "phenotypes[\"Type\"] = ['Adenocarcinoma' if \"AC\" in x else 'Squamous Cell Carcinoma' for x in phenotypes['title']]\n",
    "\n",
    "#A SettingwithCopyWarning will appear due to value setting - can ignore and continue"
   ]
  },
  {
   "cell_type": "code",
   "execution_count": 5,
   "id": "5fb0dc0b-e870-4cf1-a8b4-58c259a7c05c",
   "metadata": {
    "tags": []
   },
   "outputs": [],
   "source": [
    "#Creating dataframe that contains the sample name and lung cancer type\n",
    "\n",
    "sample_type_df = pd.DataFrame(data = phenotypes.iloc[:,[1,2]])\n",
    "sample_type_df = sample_type_df.reset_index().drop(columns = \"geo_accession\").rename(columns = {\"index\":\"sample\"})\n",
    "\n",
    "#sample_type_df"
   ]
  },
  {
   "cell_type": "code",
   "execution_count": 6,
   "id": "a3861098-233f-44b8-90d8-bf2b8e0d5082",
   "metadata": {
    "tags": []
   },
   "outputs": [],
   "source": [
    "#Creating dataframe with header set to col_names as previously defined from the reference table for each GSM sample\n",
    "\n",
    "gene_expression_df = pd.DataFrame(index=range(0),columns=range(54675))\n",
    "gene_expression_df.columns = col_names\n",
    "\n",
    "#Inserting and combining values from each GSM sample to a single dataframe\n",
    "for i in gse_file.gsms.keys():\n",
    "    gse_table = gse_file.gsms[i].table\n",
    "    gse_pivot_table = gse_table.pivot_table(columns = \"ID_REF\", values = \"VALUE\")\n",
    "    gene_expression_df2 = pd.concat([gene_expression_df, gse_pivot_table])\n",
    "    gene_expression_df = gene_expression_df2"
   ]
  },
  {
   "cell_type": "code",
   "execution_count": 7,
   "id": "baed4eec-9e6d-4184-848f-adb1bbb527eb",
   "metadata": {
    "tags": []
   },
   "outputs": [],
   "source": [
    "#Assigning gsm_df sample names as index column - each column represents expression at a specific gene per sample\n",
    "\n",
    "gsm_samples = gse_file.gsms.keys()\n",
    "gene_expression_df.index = gsm_samples\n",
    "\n",
    "#gene_expression_df"
   ]
  },
  {
   "cell_type": "markdown",
   "id": "1a4744dd-042c-4907-a46c-447a2900e86d",
   "metadata": {},
   "source": [
    "------------------------------------------------------------------------------------------------------------------------------"
   ]
  },
  {
   "cell_type": "markdown",
   "id": "21a94552-de10-41e7-b080-51ce0275088e",
   "metadata": {},
   "source": [
    "__Part 2 Perform Clustering:__"
   ]
  },
  {
   "cell_type": "markdown",
   "id": "5194fa08-08a8-44d7-b6d3-9c87564032a5",
   "metadata": {},
   "source": [
    "In the code cells below we perform clustering performed on all 58 samples in our dataset. We computed the accuracy score in two different ways to ensure that the function we made (compute_accuracy()) produces the same output as the built-in accuracy_score() function from the scikit package."
   ]
  },
  {
   "cell_type": "code",
   "execution_count": 8,
   "id": "9887914d-667f-45a7-86d9-b3054587f8a0",
   "metadata": {
    "collapsed": true,
    "jupyter": {
     "outputs_hidden": true
    },
    "tags": []
   },
   "outputs": [
    {
     "name": "stderr",
     "output_type": "stream",
     "text": [
      "/Users/joshuagalla/anaconda3/lib/python3.11/site-packages/sklearn/cluster/_kmeans.py:1412: FutureWarning: The default value of `n_init` will change from 10 to 'auto' in 1.4. Set the value of `n_init` explicitly to suppress the warning\n",
      "  super()._check_params_vs_input(X, default_n_init=10)\n"
     ]
    }
   ],
   "source": [
    "#Two clusters - Adenocarcinoma and Squamous Cell Carcinoma\n",
    "n_clusters = 2\n",
    "\n",
    "#Using kmeans function to clusters gsm_df dataframe\n",
    "kmeans = KMeans(n_clusters = n_clusters, random_state = 0)\n",
    "kmeans.fit(gene_expression_df)\n",
    "labels_prediction = kmeans.predict(gene_expression_df)\n",
    "labels_pred = kmeans.labels_\n",
    "\n",
    "#A FutureWarning will appear due to future Python version changes in n_init - can ignore and continue"
   ]
  },
  {
   "cell_type": "code",
   "execution_count": 9,
   "id": "6885815e-6e6d-42da-9dbe-dffb38d100df",
   "metadata": {
    "tags": []
   },
   "outputs": [],
   "source": [
    "#Creating dataframe with GSM sample name and assigned cluster value (either 0 for Squamous Cell Carcinoma or 1 for Adenocarcinoma) \n",
    "\n",
    "sample_cluster_all_df = pd.DataFrame(gsm_samples, columns = [\"sample\"])\n",
    "sample_cluster_all_df['cluster'] = labels_pred.tolist()\n",
    "\n",
    "#sample_cluster_all_df"
   ]
  },
  {
   "cell_type": "markdown",
   "id": "832613b4-16b8-4360-90f1-4da7b5300074",
   "metadata": {},
   "source": [
    "------------------------------------------------------------------------------------------------------------------------------"
   ]
  },
  {
   "cell_type": "markdown",
   "id": "8b885d39-bdd7-4b55-8474-825ae04517ab",
   "metadata": {},
   "source": [
    "__Part 3: Displaying DataFrame that contains Sample Label, Subtype, and Cluster Number:__"
   ]
  },
  {
   "cell_type": "code",
   "execution_count": 10,
   "id": "052787d2-d5d9-49cf-9f62-9989b13c149d",
   "metadata": {
    "tags": []
   },
   "outputs": [
    {
     "data": {
      "text/html": [
       "<div>\n",
       "<style scoped>\n",
       "    .dataframe tbody tr th:only-of-type {\n",
       "        vertical-align: middle;\n",
       "    }\n",
       "\n",
       "    .dataframe tbody tr th {\n",
       "        vertical-align: top;\n",
       "    }\n",
       "\n",
       "    .dataframe thead th {\n",
       "        text-align: right;\n",
       "    }\n",
       "</style>\n",
       "<table border=\"1\" class=\"dataframe\">\n",
       "  <thead>\n",
       "    <tr style=\"text-align: right;\">\n",
       "      <th></th>\n",
       "      <th>sample</th>\n",
       "      <th>Type</th>\n",
       "      <th>cluster</th>\n",
       "    </tr>\n",
       "  </thead>\n",
       "  <tbody>\n",
       "    <tr>\n",
       "      <th>0</th>\n",
       "      <td>GSM258551</td>\n",
       "      <td>Adenocarcinoma</td>\n",
       "      <td>1</td>\n",
       "    </tr>\n",
       "    <tr>\n",
       "      <th>1</th>\n",
       "      <td>GSM258552</td>\n",
       "      <td>Adenocarcinoma</td>\n",
       "      <td>1</td>\n",
       "    </tr>\n",
       "    <tr>\n",
       "      <th>2</th>\n",
       "      <td>GSM258553</td>\n",
       "      <td>Squamous Cell Carcinoma</td>\n",
       "      <td>0</td>\n",
       "    </tr>\n",
       "    <tr>\n",
       "      <th>3</th>\n",
       "      <td>GSM258554</td>\n",
       "      <td>Adenocarcinoma</td>\n",
       "      <td>1</td>\n",
       "    </tr>\n",
       "    <tr>\n",
       "      <th>4</th>\n",
       "      <td>GSM258555</td>\n",
       "      <td>Squamous Cell Carcinoma</td>\n",
       "      <td>0</td>\n",
       "    </tr>\n",
       "    <tr>\n",
       "      <th>5</th>\n",
       "      <td>GSM258556</td>\n",
       "      <td>Squamous Cell Carcinoma</td>\n",
       "      <td>1</td>\n",
       "    </tr>\n",
       "    <tr>\n",
       "      <th>6</th>\n",
       "      <td>GSM258557</td>\n",
       "      <td>Squamous Cell Carcinoma</td>\n",
       "      <td>0</td>\n",
       "    </tr>\n",
       "    <tr>\n",
       "      <th>7</th>\n",
       "      <td>GSM258558</td>\n",
       "      <td>Adenocarcinoma</td>\n",
       "      <td>1</td>\n",
       "    </tr>\n",
       "    <tr>\n",
       "      <th>8</th>\n",
       "      <td>GSM258559</td>\n",
       "      <td>Adenocarcinoma</td>\n",
       "      <td>1</td>\n",
       "    </tr>\n",
       "    <tr>\n",
       "      <th>9</th>\n",
       "      <td>GSM258560</td>\n",
       "      <td>Adenocarcinoma</td>\n",
       "      <td>1</td>\n",
       "    </tr>\n",
       "    <tr>\n",
       "      <th>10</th>\n",
       "      <td>GSM258561</td>\n",
       "      <td>Adenocarcinoma</td>\n",
       "      <td>1</td>\n",
       "    </tr>\n",
       "    <tr>\n",
       "      <th>11</th>\n",
       "      <td>GSM258562</td>\n",
       "      <td>Squamous Cell Carcinoma</td>\n",
       "      <td>0</td>\n",
       "    </tr>\n",
       "    <tr>\n",
       "      <th>12</th>\n",
       "      <td>GSM258563</td>\n",
       "      <td>Squamous Cell Carcinoma</td>\n",
       "      <td>0</td>\n",
       "    </tr>\n",
       "    <tr>\n",
       "      <th>13</th>\n",
       "      <td>GSM258564</td>\n",
       "      <td>Adenocarcinoma</td>\n",
       "      <td>1</td>\n",
       "    </tr>\n",
       "    <tr>\n",
       "      <th>14</th>\n",
       "      <td>GSM258565</td>\n",
       "      <td>Squamous Cell Carcinoma</td>\n",
       "      <td>0</td>\n",
       "    </tr>\n",
       "    <tr>\n",
       "      <th>15</th>\n",
       "      <td>GSM258566</td>\n",
       "      <td>Squamous Cell Carcinoma</td>\n",
       "      <td>0</td>\n",
       "    </tr>\n",
       "    <tr>\n",
       "      <th>16</th>\n",
       "      <td>GSM258567</td>\n",
       "      <td>Adenocarcinoma</td>\n",
       "      <td>1</td>\n",
       "    </tr>\n",
       "    <tr>\n",
       "      <th>17</th>\n",
       "      <td>GSM258568</td>\n",
       "      <td>Adenocarcinoma</td>\n",
       "      <td>1</td>\n",
       "    </tr>\n",
       "    <tr>\n",
       "      <th>18</th>\n",
       "      <td>GSM258569</td>\n",
       "      <td>Adenocarcinoma</td>\n",
       "      <td>1</td>\n",
       "    </tr>\n",
       "    <tr>\n",
       "      <th>19</th>\n",
       "      <td>GSM258570</td>\n",
       "      <td>Squamous Cell Carcinoma</td>\n",
       "      <td>0</td>\n",
       "    </tr>\n",
       "    <tr>\n",
       "      <th>20</th>\n",
       "      <td>GSM258571</td>\n",
       "      <td>Adenocarcinoma</td>\n",
       "      <td>1</td>\n",
       "    </tr>\n",
       "    <tr>\n",
       "      <th>21</th>\n",
       "      <td>GSM258572</td>\n",
       "      <td>Adenocarcinoma</td>\n",
       "      <td>1</td>\n",
       "    </tr>\n",
       "    <tr>\n",
       "      <th>22</th>\n",
       "      <td>GSM258573</td>\n",
       "      <td>Adenocarcinoma</td>\n",
       "      <td>1</td>\n",
       "    </tr>\n",
       "    <tr>\n",
       "      <th>23</th>\n",
       "      <td>GSM258574</td>\n",
       "      <td>Adenocarcinoma</td>\n",
       "      <td>1</td>\n",
       "    </tr>\n",
       "    <tr>\n",
       "      <th>24</th>\n",
       "      <td>GSM258575</td>\n",
       "      <td>Adenocarcinoma</td>\n",
       "      <td>1</td>\n",
       "    </tr>\n",
       "    <tr>\n",
       "      <th>25</th>\n",
       "      <td>GSM258576</td>\n",
       "      <td>Adenocarcinoma</td>\n",
       "      <td>1</td>\n",
       "    </tr>\n",
       "    <tr>\n",
       "      <th>26</th>\n",
       "      <td>GSM258577</td>\n",
       "      <td>Adenocarcinoma</td>\n",
       "      <td>1</td>\n",
       "    </tr>\n",
       "    <tr>\n",
       "      <th>27</th>\n",
       "      <td>GSM258578</td>\n",
       "      <td>Squamous Cell Carcinoma</td>\n",
       "      <td>0</td>\n",
       "    </tr>\n",
       "    <tr>\n",
       "      <th>28</th>\n",
       "      <td>GSM258579</td>\n",
       "      <td>Adenocarcinoma</td>\n",
       "      <td>1</td>\n",
       "    </tr>\n",
       "    <tr>\n",
       "      <th>29</th>\n",
       "      <td>GSM258580</td>\n",
       "      <td>Squamous Cell Carcinoma</td>\n",
       "      <td>0</td>\n",
       "    </tr>\n",
       "    <tr>\n",
       "      <th>30</th>\n",
       "      <td>GSM258581</td>\n",
       "      <td>Adenocarcinoma</td>\n",
       "      <td>1</td>\n",
       "    </tr>\n",
       "    <tr>\n",
       "      <th>31</th>\n",
       "      <td>GSM258582</td>\n",
       "      <td>Adenocarcinoma</td>\n",
       "      <td>1</td>\n",
       "    </tr>\n",
       "    <tr>\n",
       "      <th>32</th>\n",
       "      <td>GSM258583</td>\n",
       "      <td>Squamous Cell Carcinoma</td>\n",
       "      <td>0</td>\n",
       "    </tr>\n",
       "    <tr>\n",
       "      <th>33</th>\n",
       "      <td>GSM258584</td>\n",
       "      <td>Adenocarcinoma</td>\n",
       "      <td>1</td>\n",
       "    </tr>\n",
       "    <tr>\n",
       "      <th>34</th>\n",
       "      <td>GSM258585</td>\n",
       "      <td>Squamous Cell Carcinoma</td>\n",
       "      <td>0</td>\n",
       "    </tr>\n",
       "    <tr>\n",
       "      <th>35</th>\n",
       "      <td>GSM258586</td>\n",
       "      <td>Adenocarcinoma</td>\n",
       "      <td>1</td>\n",
       "    </tr>\n",
       "    <tr>\n",
       "      <th>36</th>\n",
       "      <td>GSM258587</td>\n",
       "      <td>Adenocarcinoma</td>\n",
       "      <td>1</td>\n",
       "    </tr>\n",
       "    <tr>\n",
       "      <th>37</th>\n",
       "      <td>GSM258588</td>\n",
       "      <td>Adenocarcinoma</td>\n",
       "      <td>1</td>\n",
       "    </tr>\n",
       "    <tr>\n",
       "      <th>38</th>\n",
       "      <td>GSM258589</td>\n",
       "      <td>Adenocarcinoma</td>\n",
       "      <td>1</td>\n",
       "    </tr>\n",
       "    <tr>\n",
       "      <th>39</th>\n",
       "      <td>GSM258590</td>\n",
       "      <td>Squamous Cell Carcinoma</td>\n",
       "      <td>0</td>\n",
       "    </tr>\n",
       "    <tr>\n",
       "      <th>40</th>\n",
       "      <td>GSM258591</td>\n",
       "      <td>Adenocarcinoma</td>\n",
       "      <td>1</td>\n",
       "    </tr>\n",
       "    <tr>\n",
       "      <th>41</th>\n",
       "      <td>GSM258592</td>\n",
       "      <td>Adenocarcinoma</td>\n",
       "      <td>1</td>\n",
       "    </tr>\n",
       "    <tr>\n",
       "      <th>42</th>\n",
       "      <td>GSM258593</td>\n",
       "      <td>Adenocarcinoma</td>\n",
       "      <td>0</td>\n",
       "    </tr>\n",
       "    <tr>\n",
       "      <th>43</th>\n",
       "      <td>GSM258594</td>\n",
       "      <td>Squamous Cell Carcinoma</td>\n",
       "      <td>0</td>\n",
       "    </tr>\n",
       "    <tr>\n",
       "      <th>44</th>\n",
       "      <td>GSM258595</td>\n",
       "      <td>Adenocarcinoma</td>\n",
       "      <td>1</td>\n",
       "    </tr>\n",
       "    <tr>\n",
       "      <th>45</th>\n",
       "      <td>GSM258596</td>\n",
       "      <td>Squamous Cell Carcinoma</td>\n",
       "      <td>0</td>\n",
       "    </tr>\n",
       "    <tr>\n",
       "      <th>46</th>\n",
       "      <td>GSM258597</td>\n",
       "      <td>Adenocarcinoma</td>\n",
       "      <td>1</td>\n",
       "    </tr>\n",
       "    <tr>\n",
       "      <th>47</th>\n",
       "      <td>GSM258598</td>\n",
       "      <td>Adenocarcinoma</td>\n",
       "      <td>1</td>\n",
       "    </tr>\n",
       "    <tr>\n",
       "      <th>48</th>\n",
       "      <td>GSM258599</td>\n",
       "      <td>Squamous Cell Carcinoma</td>\n",
       "      <td>0</td>\n",
       "    </tr>\n",
       "    <tr>\n",
       "      <th>49</th>\n",
       "      <td>GSM258600</td>\n",
       "      <td>Adenocarcinoma</td>\n",
       "      <td>1</td>\n",
       "    </tr>\n",
       "    <tr>\n",
       "      <th>50</th>\n",
       "      <td>GSM258601</td>\n",
       "      <td>Adenocarcinoma</td>\n",
       "      <td>1</td>\n",
       "    </tr>\n",
       "    <tr>\n",
       "      <th>51</th>\n",
       "      <td>GSM258602</td>\n",
       "      <td>Adenocarcinoma</td>\n",
       "      <td>1</td>\n",
       "    </tr>\n",
       "    <tr>\n",
       "      <th>52</th>\n",
       "      <td>GSM258603</td>\n",
       "      <td>Squamous Cell Carcinoma</td>\n",
       "      <td>0</td>\n",
       "    </tr>\n",
       "    <tr>\n",
       "      <th>53</th>\n",
       "      <td>GSM258604</td>\n",
       "      <td>Adenocarcinoma</td>\n",
       "      <td>1</td>\n",
       "    </tr>\n",
       "    <tr>\n",
       "      <th>54</th>\n",
       "      <td>GSM258605</td>\n",
       "      <td>Adenocarcinoma</td>\n",
       "      <td>1</td>\n",
       "    </tr>\n",
       "    <tr>\n",
       "      <th>55</th>\n",
       "      <td>GSM258606</td>\n",
       "      <td>Adenocarcinoma</td>\n",
       "      <td>1</td>\n",
       "    </tr>\n",
       "    <tr>\n",
       "      <th>56</th>\n",
       "      <td>GSM258607</td>\n",
       "      <td>Adenocarcinoma</td>\n",
       "      <td>1</td>\n",
       "    </tr>\n",
       "    <tr>\n",
       "      <th>57</th>\n",
       "      <td>GSM258608</td>\n",
       "      <td>Adenocarcinoma</td>\n",
       "      <td>1</td>\n",
       "    </tr>\n",
       "  </tbody>\n",
       "</table>\n",
       "</div>"
      ],
      "text/plain": [
       "       sample                     Type  cluster\n",
       "0   GSM258551           Adenocarcinoma        1\n",
       "1   GSM258552           Adenocarcinoma        1\n",
       "2   GSM258553  Squamous Cell Carcinoma        0\n",
       "3   GSM258554           Adenocarcinoma        1\n",
       "4   GSM258555  Squamous Cell Carcinoma        0\n",
       "5   GSM258556  Squamous Cell Carcinoma        1\n",
       "6   GSM258557  Squamous Cell Carcinoma        0\n",
       "7   GSM258558           Adenocarcinoma        1\n",
       "8   GSM258559           Adenocarcinoma        1\n",
       "9   GSM258560           Adenocarcinoma        1\n",
       "10  GSM258561           Adenocarcinoma        1\n",
       "11  GSM258562  Squamous Cell Carcinoma        0\n",
       "12  GSM258563  Squamous Cell Carcinoma        0\n",
       "13  GSM258564           Adenocarcinoma        1\n",
       "14  GSM258565  Squamous Cell Carcinoma        0\n",
       "15  GSM258566  Squamous Cell Carcinoma        0\n",
       "16  GSM258567           Adenocarcinoma        1\n",
       "17  GSM258568           Adenocarcinoma        1\n",
       "18  GSM258569           Adenocarcinoma        1\n",
       "19  GSM258570  Squamous Cell Carcinoma        0\n",
       "20  GSM258571           Adenocarcinoma        1\n",
       "21  GSM258572           Adenocarcinoma        1\n",
       "22  GSM258573           Adenocarcinoma        1\n",
       "23  GSM258574           Adenocarcinoma        1\n",
       "24  GSM258575           Adenocarcinoma        1\n",
       "25  GSM258576           Adenocarcinoma        1\n",
       "26  GSM258577           Adenocarcinoma        1\n",
       "27  GSM258578  Squamous Cell Carcinoma        0\n",
       "28  GSM258579           Adenocarcinoma        1\n",
       "29  GSM258580  Squamous Cell Carcinoma        0\n",
       "30  GSM258581           Adenocarcinoma        1\n",
       "31  GSM258582           Adenocarcinoma        1\n",
       "32  GSM258583  Squamous Cell Carcinoma        0\n",
       "33  GSM258584           Adenocarcinoma        1\n",
       "34  GSM258585  Squamous Cell Carcinoma        0\n",
       "35  GSM258586           Adenocarcinoma        1\n",
       "36  GSM258587           Adenocarcinoma        1\n",
       "37  GSM258588           Adenocarcinoma        1\n",
       "38  GSM258589           Adenocarcinoma        1\n",
       "39  GSM258590  Squamous Cell Carcinoma        0\n",
       "40  GSM258591           Adenocarcinoma        1\n",
       "41  GSM258592           Adenocarcinoma        1\n",
       "42  GSM258593           Adenocarcinoma        0\n",
       "43  GSM258594  Squamous Cell Carcinoma        0\n",
       "44  GSM258595           Adenocarcinoma        1\n",
       "45  GSM258596  Squamous Cell Carcinoma        0\n",
       "46  GSM258597           Adenocarcinoma        1\n",
       "47  GSM258598           Adenocarcinoma        1\n",
       "48  GSM258599  Squamous Cell Carcinoma        0\n",
       "49  GSM258600           Adenocarcinoma        1\n",
       "50  GSM258601           Adenocarcinoma        1\n",
       "51  GSM258602           Adenocarcinoma        1\n",
       "52  GSM258603  Squamous Cell Carcinoma        0\n",
       "53  GSM258604           Adenocarcinoma        1\n",
       "54  GSM258605           Adenocarcinoma        1\n",
       "55  GSM258606           Adenocarcinoma        1\n",
       "56  GSM258607           Adenocarcinoma        1\n",
       "57  GSM258608           Adenocarcinoma        1"
      ]
     },
     "execution_count": 10,
     "metadata": {},
     "output_type": "execute_result"
    }
   ],
   "source": [
    "#Merging dataframe with sample name and cancer type (sample_type_df) with our dataframe that contains sample name and \n",
    "#cluster group (clusters_all_data)\n",
    "\n",
    "clusters_all_data = sample_type_df.merge(sample_cluster_all_df, left_on = \"sample\", right_on = \"sample\")\n",
    "clusters_all_data = clusters_all_data.loc[:,[\"sample\", \"Type\", \"cluster\"]]\n",
    "\n",
    "clusters_all_data"
   ]
  },
  {
   "cell_type": "markdown",
   "id": "13a10ca9-e1af-4715-945a-67a9041d5ded",
   "metadata": {},
   "source": [
    "The dataframe aboves predicts the clustering of each sample and its cancer type based on its respective gene expression data. Correct clustering identification corresponds to a \"0\" in the cluster column for Squamous Cell Carcinoma samples, and a \"1\" in the cluster column for Adenocarcinoma samples."
   ]
  },
  {
   "cell_type": "markdown",
   "id": "cbb562d4-14d9-47a7-9cdc-86a2eba6357e",
   "metadata": {},
   "source": [
    "------------------------------------------------------------------------------------------------------------------------------"
   ]
  },
  {
   "cell_type": "markdown",
   "id": "9e8369eb-fcc5-4176-991d-adb59dec2a28",
   "metadata": {},
   "source": [
    "__Part 4: Computing and Displaying Clustering Accuracy:__"
   ]
  },
  {
   "cell_type": "markdown",
   "id": "a6e82296-11af-4a27-aed6-811238777657",
   "metadata": {},
   "source": [
    "_Method 1: Creating a compute_accuracy() Function:_"
   ]
  },
  {
   "cell_type": "markdown",
   "id": "093ee190-90cb-4be3-ba2c-43f11fd7e65e",
   "metadata": {},
   "source": [
    "In the two sections below, we incorporate our own function (compute_accuracy()) for computing the clustering accuracy and cross-check it with the accuracy score provided by the accuracy_score() function from the Scikit Python package in order to ensure that our clustering accuracy is correct. "
   ]
  },
  {
   "cell_type": "code",
   "execution_count": 11,
   "id": "d6837a61-ff9f-4c0e-a142-f1e660fb56ca",
   "metadata": {
    "tags": []
   },
   "outputs": [
    {
     "name": "stdout",
     "output_type": "stream",
     "text": [
      "Using all 58 samples as the training data and the compute_accuracy() function, the computed clustering accuracy (%) is:         96.55\n"
     ]
    }
   ],
   "source": [
    "#Function for computing and displaying accuracy of predicted clusters\n",
    "\n",
    "def compute_accuracy(df, AC_cluster: int):\n",
    "    \n",
    "    \"\"\"\n",
    "    Takes in two arguments, a dataset df and an int AC_cluster specifying which cluster Adenocarcinoma is most likely associated with.\n",
    "    \n",
    "    The compute_accuracy function computes and displays the accuracy of the predicted clustering of the inputted\n",
    "    dataset as a percentage (%). \n",
    "    \n",
    "    This is calculated by identifying the number of false negatives and subtracting this\n",
    "    value from the total number of samples in the dataset, giving us the number of true positives. \n",
    "    \n",
    "    The number of true positives is then divided by the total number of samples in the dataset and multipled by 100.\n",
    "    \"\"\"\n",
    "    \n",
    "    sample_count = len(df)\n",
    "\n",
    "    AD_df = df[df.Type == \"Adenocarcinoma\"]\n",
    "    AD_FN = len(AD_df[AD_df.cluster != AC_cluster])\n",
    "\n",
    "    SCC_df = df[df.Type == \"Squamous Cell Carcinoma\"]\n",
    "    SCC_FN = len(SCC_df[SCC_df.cluster == AC_cluster])\n",
    "\n",
    "    total_FN = int(AD_FN + SCC_FN)\n",
    "\n",
    "    clusters_acc_percent = (int(sample_count - total_FN) / (sample_count) * 100)\n",
    "    \n",
    "    return(clusters_acc_percent)\n",
    "\n",
    "accuracy_all_data = compute_accuracy(clusters_all_data, 1)\n",
    "\n",
    "print(\"Using all 58 samples as the training data and the compute_accuracy() function, the computed clustering accuracy (%) is:        \",\n",
    "      round(accuracy_all_data, 2))"
   ]
  },
  {
   "cell_type": "markdown",
   "id": "123cb4c6-9e81-45a0-9826-d511fdab12c9",
   "metadata": {},
   "source": [
    "_Method 2: Using Scikit accuracy_score() Function_"
   ]
  },
  {
   "cell_type": "code",
   "execution_count": 12,
   "id": "388fbb25-fbbb-4a11-b91b-11d0a05486fd",
   "metadata": {
    "tags": []
   },
   "outputs": [],
   "source": [
    "#Selecting for lung cancer type (Adenocarcinoma or Squamous Cell Carcinoma) and associating each respective clustering number\n",
    "\n",
    "clusters_all_data['cluster'] = clusters_all_data['Type'].apply(lambda x: 1 if \"Adenocarcinoma\" in x else 0 if \"Squamous Cell Carcinoma\" in x else -1)\n",
    "\n",
    "#clusters_all_data"
   ]
  },
  {
   "cell_type": "code",
   "execution_count": 13,
   "id": "ef6e0221-c208-4f72-b316-a64e86b6cfd7",
   "metadata": {
    "tags": []
   },
   "outputs": [],
   "source": [
    "#Merging dataframes to compare actual cluster of cancer type (correct cluster) to predicted cluster group (predicted cluster)\n",
    "\n",
    "cluster_comparison = sample_cluster_all_df.merge(clusters_all_data, left_on = \"sample\", right_on = \"sample\")\n",
    "cluster_comparison = cluster_comparison.rename(columns = {\"cluster_x\":\"predicted cluster\", \"cluster_y\":\"correct cluster\"})\n",
    "\n",
    "#cluster_comparison"
   ]
  },
  {
   "cell_type": "code",
   "execution_count": 14,
   "id": "c294c836-c62c-43be-a0a8-77da7e7a2d4c",
   "metadata": {
    "tags": []
   },
   "outputs": [
    {
     "name": "stdout",
     "output_type": "stream",
     "text": [
      "Using all 58 samples as the training data and the Scikit accuracy_score() function, the computed clustering accuracy (%) is:    96.55\n"
     ]
    }
   ],
   "source": [
    "#Computes accuracy score using accuracy_score() function from Scikit\n",
    "\n",
    "accuracy_all_data_2 = float(accuracy_score(cluster_comparison[\"predicted cluster\"], cluster_comparison[\"correct cluster\"]))*100\n",
    "\n",
    "print(\"Using all 58 samples as the training data and the Scikit accuracy_score() function, the computed clustering accuracy (%) is:   \"\n",
    "      ,round(accuracy_all_data_2, 2))"
   ]
  },
  {
   "cell_type": "markdown",
   "id": "efd0e4b6-66cb-408e-82db-463ae01d035c",
   "metadata": {},
   "source": [
    "The computed accuracy scores (either using the created compute_accuracy() function or using the Scikit accuracy_score() function) produce the same accuracy percentage of ~96.6%."
   ]
  },
  {
   "cell_type": "markdown",
   "id": "1ed258e6-8ef9-4118-a876-20babfc7b2d1",
   "metadata": {},
   "source": [
    "------------------------------------------------------------------------------------------------------------------------------"
   ]
  },
  {
   "cell_type": "markdown",
   "id": "81153d21-4c2f-4e35-8cd3-0ee7106ba171",
   "metadata": {},
   "source": [
    "__Parts 5 and 6: Fitting the Model on Half of the Data and Predicting the Other Half, and Computing Clustering Accuracy:__"
   ]
  },
  {
   "cell_type": "markdown",
   "id": "fd6b2488-cace-461b-ac95-5a23908e55bc",
   "metadata": {},
   "source": [
    "In the section below we perform DataFrame manipulation/organization to organize our data and split it into two halves - 20 Adenocarcinoma samples and 9 Squamous Cell Carcinoma samples per DataFrame. We then compute the accuracy of inputting one half of the data as the training set and using the cluster model to predict the cluster label for the other half of data, and vice versa."
   ]
  },
  {
   "cell_type": "code",
   "execution_count": 15,
   "id": "63951b09-b1fe-4a33-af3e-17d349b4a5e8",
   "metadata": {
    "tags": []
   },
   "outputs": [],
   "source": [
    "#Creating training set and test set by splitting dataframe containing all AD cancer types in half\n",
    "AD_df = sample_type_df[sample_type_df[\"Type\"] == \"Adenocarcinoma\"]\n",
    "AD_1st_half_data = AD_df.iloc[0:20, 0:2]\n",
    "AD_2nd_half_data = AD_df.iloc[20:40, 0:2]\n",
    "\n",
    "#Creating training set and test set by splitting dataframe containing all SCC cancer types in half\n",
    "SCC_df = sample_type_df[sample_type_df[\"Type\"] == \"Squamous Cell Carcinoma\"]\n",
    "SCC_1st_half_data = SCC_df.iloc[0:9, 0:2]\n",
    "SCC_2nd_half_data = SCC_df.iloc[9:18, 0:2]"
   ]
  },
  {
   "cell_type": "code",
   "execution_count": 16,
   "id": "28503bee-58a9-4e9e-a3b5-3fdd2736fc18",
   "metadata": {
    "tags": []
   },
   "outputs": [],
   "source": [
    "#Merging training sets from previous code cell to create two dataframes, each with half of all data (29 samples each)\n",
    "\n",
    "type_data_1st_half = AD_1st_half_data.merge(SCC_1st_half_data, how = \"outer\")\n",
    "type_data_2nd_half = AD_2nd_half_data.merge(SCC_2nd_half_data, how = \"outer\")\n",
    "\n",
    "#type_data_1st_half\n",
    "#type_data_2nd_half"
   ]
  },
  {
   "cell_type": "code",
   "execution_count": 17,
   "id": "e69064ba-cf11-4424-b3e7-2d7ef3ccad67",
   "metadata": {
    "tags": []
   },
   "outputs": [],
   "source": [
    "#Renaming gene identifier column and resetting index to prepare for merging (and for clarity of displayed data)\n",
    "\n",
    "expression_data_all_df = gene_expression_df.reset_index()\n",
    "expression_data_all_df.rename(columns={\"index\": \"sample\"}, inplace=True)\n",
    "\n",
    "#expression_data_all_df"
   ]
  },
  {
   "cell_type": "code",
   "execution_count": 18,
   "id": "fd6b54ca-1519-4c01-9001-8ae3d80b513a",
   "metadata": {
    "tags": []
   },
   "outputs": [],
   "source": [
    "#Creating two dataframes, each with complete lists of 1st half and 2nd half of sample with respective expression data\n",
    "\n",
    "expression_data_1st_half = type_data_1st_half.merge(expression_data_all_df, how = \"inner\")\n",
    "expression_data_1st_half = expression_data_1st_half.set_index(\"sample\").drop(columns = \"Type\")\n",
    "\n",
    "expression_data_2nd_half = type_data_2nd_half.merge(expression_data_all_df, how = \"inner\")\n",
    "expression_data_2nd_half = expression_data_2nd_half.set_index(\"sample\").drop(columns = \"Type\")"
   ]
  },
  {
   "cell_type": "markdown",
   "id": "23cb9740-ac3e-4ba0-a2a7-f179814f5874",
   "metadata": {},
   "source": [
    "_Clustering using first half of data as training set and second half as test set:_"
   ]
  },
  {
   "cell_type": "code",
   "execution_count": 19,
   "id": "0cc4bb45-1391-436b-9932-1f4ad4588bea",
   "metadata": {
    "collapsed": true,
    "jupyter": {
     "outputs_hidden": true
    },
    "tags": []
   },
   "outputs": [
    {
     "name": "stderr",
     "output_type": "stream",
     "text": [
      "/Users/joshuagalla/anaconda3/lib/python3.11/site-packages/sklearn/cluster/_kmeans.py:1412: FutureWarning: The default value of `n_init` will change from 10 to 'auto' in 1.4. Set the value of `n_init` explicitly to suppress the warning\n",
      "  super()._check_params_vs_input(X, default_n_init=10)\n"
     ]
    }
   ],
   "source": [
    "#Two clusters - Adenocarcinoma and Squamous Cell Carcinoma\n",
    "n_clusters = 2\n",
    "\n",
    "kmeans = KMeans(n_clusters = n_clusters, random_state=0)\n",
    "kmeans.fit(expression_data_1st_half) #training model on 1st half of data\n",
    "\n",
    "labels_pred = kmeans.labels_\n",
    "labels_prediction = kmeans.predict(expression_data_2nd_half) #predicting clustering of 2nd half of data\n",
    "\n",
    "#A FutureWarning will appear due to future Python version changes in n_init - can ignore and continue"
   ]
  },
  {
   "cell_type": "code",
   "execution_count": 20,
   "id": "9a86396c-1343-4412-9580-8c1199d98165",
   "metadata": {
    "tags": []
   },
   "outputs": [],
   "source": [
    "#Resetting index to make the displayed DataFrame more clear and predicting the 2nd half of data based on the 1st half of data \n",
    "#as the training set\n",
    "\n",
    "expression_data_1st_half = expression_data_1st_half.reset_index()\n",
    "expression_data_2nd_half = expression_data_2nd_half.reset_index()\n",
    "\n",
    "clusters_data_2nd_half = pd.DataFrame(expression_data_2nd_half, columns = [\"sample\"])\n",
    "clusters_data_2nd_half['cluster'] = labels_prediction.tolist()\n",
    "\n",
    "#clusters_data_2nd_half"
   ]
  },
  {
   "cell_type": "code",
   "execution_count": 21,
   "id": "84fb3e9c-ccaf-40be-94b6-0efce31395c6",
   "metadata": {
    "tags": []
   },
   "outputs": [],
   "source": [
    "#Merging DataFrames to display sample, type, and predicted cluster for the test data (2nd half)\n",
    "#Correct clustering corresponds to a \"0\" in the cluster column for Adenocarcinoma and a \"1\" in the cluster column for \n",
    "#Squamous Cell Carcinoma\n",
    "\n",
    "clusters_data_2nd_half = type_data_2nd_half.merge(clusters_data_2nd_half, how = \"inner\")\n",
    "\n",
    "#clusters_data_2nd_half"
   ]
  },
  {
   "cell_type": "code",
   "execution_count": 22,
   "id": "7dc73ff4-47c3-4a78-bd74-9a11e5967a31",
   "metadata": {
    "tags": []
   },
   "outputs": [
    {
     "name": "stdout",
     "output_type": "stream",
     "text": [
      "Using the first 29 samples as the training data, the computed clustering accuracy (%) for the remaining 29 test samples is:      89.66\n"
     ]
    }
   ],
   "source": [
    "#Computing and displaying accuracy of previously created clusters\n",
    "\n",
    "accuracy_2nd_half_data = compute_accuracy(clusters_data_2nd_half, 0)\n",
    "\n",
    "print(\"Using the first 29 samples as the training data, the computed clustering accuracy (%) for the remaining 29 test samples is:     \",\n",
    "      round(accuracy_2nd_half_data,2))"
   ]
  },
  {
   "cell_type": "markdown",
   "id": "b4e47cc1-ad49-4623-b9f6-4dbf009745b6",
   "metadata": {},
   "source": [
    "_Clustering using second half of data as training set and first half as test set:_"
   ]
  },
  {
   "cell_type": "code",
   "execution_count": 23,
   "id": "35bd38f2-7b52-4a5c-ae75-3af3c67ba40e",
   "metadata": {
    "collapsed": true,
    "jupyter": {
     "outputs_hidden": true
    },
    "tags": []
   },
   "outputs": [
    {
     "name": "stderr",
     "output_type": "stream",
     "text": [
      "/Users/joshuagalla/anaconda3/lib/python3.11/site-packages/sklearn/cluster/_kmeans.py:1412: FutureWarning: The default value of `n_init` will change from 10 to 'auto' in 1.4. Set the value of `n_init` explicitly to suppress the warning\n",
      "  super()._check_params_vs_input(X, default_n_init=10)\n"
     ]
    }
   ],
   "source": [
    "#Resetting sample ID's to be the row index \n",
    "\n",
    "expression_data_1st_half = type_data_1st_half.merge(expression_data_all_df, how = \"inner\")\n",
    "expression_data_1st_half = expression_data_1st_half.set_index(\"sample\").drop(columns = \"Type\")\n",
    "\n",
    "expression_data_2nd_half = type_data_2nd_half.merge(expression_data_all_df, how = \"inner\")\n",
    "expression_data_2nd_half = expression_data_2nd_half.set_index(\"sample\").drop(columns = \"Type\")\n",
    "\n",
    "#Two clusters - Adenocarcinoma and Squamous Cell Carcinoma\n",
    "n_clusters = 2\n",
    "\n",
    "kmeans = KMeans(n_clusters = n_clusters, random_state=0)\n",
    "kmeans.fit(expression_data_2nd_half) #training model on 2nd half of data\n",
    "\n",
    "labels_pred = kmeans.labels_\n",
    "labels_prediction = kmeans.predict(expression_data_1st_half) #predicting clustering of 1st half of data\n",
    "\n",
    "#A FutureWarning will appear due to future Python version changes in n_init - can ignore and continue"
   ]
  },
  {
   "cell_type": "code",
   "execution_count": 24,
   "id": "1cab9c1d-10e8-4b4b-9c20-c8c9fa2d1b2c",
   "metadata": {
    "tags": []
   },
   "outputs": [],
   "source": [
    "#Resetting index to make the displayed DataFrame more clear and predicting the 1st half of data based on the 2nd half of data \n",
    "#as the training set\n",
    "\n",
    "expression_data_1st_half = expression_data_1st_half.reset_index()\n",
    "expression_data_2nd_half = expression_data_2nd_half.reset_index()\n",
    "\n",
    "clusters_data_1st_half = pd.DataFrame(expression_data_1st_half, columns = [\"sample\"])\n",
    "clusters_data_1st_half['cluster'] = labels_prediction.tolist()\n",
    "\n",
    "#clusters_data_1st_half"
   ]
  },
  {
   "cell_type": "code",
   "execution_count": 25,
   "id": "691a82e7-4754-4d21-9ef4-638e7a40664c",
   "metadata": {
    "tags": []
   },
   "outputs": [],
   "source": [
    "#Merging DataFrames to display sample, type, and predicted cluster for the test data (1st half)\n",
    "#Correct clustering corresponds to a \"0\" in the cluster column for Adenocarcinoma and a \"1\" in the cluster column for \n",
    "#Squamous Cell Carcinoma\n",
    "\n",
    "clusters_data_1st_half = type_data_1st_half.merge(clusters_data_1st_half, how = \"inner\")\n",
    "\n",
    "#clusters_data_1st_half"
   ]
  },
  {
   "cell_type": "code",
   "execution_count": 26,
   "id": "6cad2c45-2f5e-4f8e-a695-8a7e98886bea",
   "metadata": {
    "tags": []
   },
   "outputs": [
    {
     "name": "stdout",
     "output_type": "stream",
     "text": [
      "Using the remaining 29 samples as the training data, the computed clustering accuracy (%) for the first 29 test samples is:      93.1\n"
     ]
    }
   ],
   "source": [
    "#Computing and displaying accuracy of previously created clusters\n",
    "\n",
    "accuracy_1st_half_data = compute_accuracy(clusters_data_1st_half, 0)\n",
    "\n",
    "print(\"Using the remaining 29 samples as the training data, the computed clustering accuracy (%) for the first 29 test samples is:     \",\n",
    "      round(accuracy_1st_half_data,2))"
   ]
  },
  {
   "cell_type": "markdown",
   "id": "ae1e5505-cd19-4ac0-8fc3-9e254fb406e2",
   "metadata": {},
   "source": [
    "------------------------------------------------------------------------------------------------------------------------------"
   ]
  },
  {
   "cell_type": "markdown",
   "id": "a7442b03-1dad-401f-ace8-ff90f32ab271",
   "metadata": {},
   "source": [
    "__Part 7: Graphical Analysis of Accuracy Scores:__"
   ]
  },
  {
   "cell_type": "markdown",
   "id": "052bd6da-d55e-4398-b24d-bba044a1bb14",
   "metadata": {},
   "source": [
    "Below we visualize the three computed accuracy scores of i) using all 58 samples as the training data, ii) training the model on the 1st half of the data and predicting the 2nd half, and iii) training the model on the 2nd half of the data and predicting the 1st half."
   ]
  },
  {
   "cell_type": "code",
   "execution_count": 27,
   "id": "ea65a24a-ea80-4015-8434-ff5e9c39f1e9",
   "metadata": {
    "tags": []
   },
   "outputs": [
    {
     "data": {
      "image/png": "[encoded data removed]",
      "text/plain": [
       "<Figure size 640x480 with 1 Axes>"
      ]
     },
     "metadata": {},
     "output_type": "display_data"
    }
   ],
   "source": [
    "#Barplot of predicted clustering accuracy percentage\n",
    "\n",
    "accuracy_list = [accuracy_all_data, accuracy_2nd_half_data, accuracy_1st_half_data]\n",
    "data_label = [\"All Data\", \"2nd Half of Data\", \"1st Half of Data\"]\n",
    "\n",
    "fig, ax = plt.subplots()\n",
    "bar_container = ax.bar(data_label, accuracy_list)\n",
    "ax.set(ylabel = 'Clustering Accuracy (%)', xlabel = 'Data Assigned as Training Data', title = 'Percent Accuracy of Predicted Test Data Clusters', ylim = (0, 105))\n",
    "ax.bar_label(bar_container, fmt='{:,.2f}')\n",
    "\n",
    "plt.show()"
   ]
  },
  {
   "cell_type": "markdown",
   "id": "1ed44049-51a7-4b90-8971-0209334034bc",
   "metadata": {},
   "source": [
    "------------------------------------------------------------------------------------------------------------------------------"
   ]
  },
  {
   "cell_type": "markdown",
   "id": "b9e4a52b-acb8-4c3d-98a3-b631c8241a3c",
   "metadata": {},
   "source": [
    "__Part 8: Additional Biological Application - Gene Expression Comparison Between Lung Cancer Types:__"
   ]
  },
  {
   "cell_type": "markdown",
   "id": "5186ff92-c83e-4db0-ac17-8366b3d34cda",
   "metadata": {},
   "source": [
    "By comparing the difference in average gene expression between Adenocarcinoma and Squamous Cell Carcinoma and displaying the output as an absolute value, we can identify the largest average difference between cancer types in specific genes. This allows us to identify genes that may be potential biomarkers in the onset or regulation of either lung cancer type. \n",
    "\n",
    "Additionally, we can determine the statistical significance of these difference by looking at each expression value's p-value by performing t-tests and Bonferroni corrections for multiple hypotheses."
   ]
  },
  {
   "cell_type": "code",
   "execution_count": 28,
   "id": "ca19eb1b-f086-47a2-9571-915ab64f84a4",
   "metadata": {
    "collapsed": true,
    "jupyter": {
     "outputs_hidden": true
    },
    "tags": []
   },
   "outputs": [
    {
     "name": "stderr",
     "output_type": "stream",
     "text": [
      "/var/folders/tb/vcvrpcfx3wx9c6vw189bjn3m0000gn/T/ipykernel_32841/271093703.py:4: FutureWarning: The default value of numeric_only in DataFrame.mean is deprecated. In a future version, it will default to False. In addition, specifying 'numeric_only=None' is deprecated. Select only valid columns or specify the value of numeric_only to silence this warning.\n",
      "  AD_expression_df = pd.DataFrame(AD_expression_df.mean().sort_values(ascending = False))\n",
      "/var/folders/tb/vcvrpcfx3wx9c6vw189bjn3m0000gn/T/ipykernel_32841/271093703.py:8: FutureWarning: The default value of numeric_only in DataFrame.mean is deprecated. In a future version, it will default to False. In addition, specifying 'numeric_only=None' is deprecated. Select only valid columns or specify the value of numeric_only to silence this warning.\n",
      "  SCC_expression_df = pd.DataFrame(SCC_expression_df.mean().sort_values(ascending = False))\n"
     ]
    }
   ],
   "source": [
    "#Organizing gene expression data based on only Adenocarcinoma cancer type and Squamous Cell Carcinoma cancer type\n",
    "\n",
    "AD_expression_df = AD_df.merge(expression_data_all_df, how = \"inner\")\n",
    "AD_expression_df = pd.DataFrame(AD_expression_df.mean().sort_values(ascending = False))\n",
    "AD_expression_df = AD_expression_df.reset_index().rename(columns = {\"index\":\"Gene\", 0:\"Expression in AD\"})\n",
    "\n",
    "SCC_expression_df = SCC_df.merge(expression_data_all_df, how = \"inner\")\n",
    "SCC_expression_df = pd.DataFrame(SCC_expression_df.mean().sort_values(ascending = False))\n",
    "SCC_expression_df = SCC_expression_df.reset_index().rename(columns = {\"index\":\"Gene\", 0:\"Expression in SCC\"})\n",
    "\n",
    "#A FutureWarning will appear indicating future version changes - can ignore and continue"
   ]
  },
  {
   "cell_type": "code",
   "execution_count": 29,
   "id": "3b400c70-10f1-4f5f-877e-8446393e5689",
   "metadata": {
    "tags": []
   },
   "outputs": [
    {
     "name": "stdout",
     "output_type": "stream",
     "text": [
      "The 10 largest differences in gene expression between Adenocarcinoma and Squamous Cell Carcinoma:\n"
     ]
    },
    {
     "data": {
      "text/html": [
       "<div>\n",
       "<style scoped>\n",
       "    .dataframe tbody tr th:only-of-type {\n",
       "        vertical-align: middle;\n",
       "    }\n",
       "\n",
       "    .dataframe tbody tr th {\n",
       "        vertical-align: top;\n",
       "    }\n",
       "\n",
       "    .dataframe thead th {\n",
       "        text-align: right;\n",
       "    }\n",
       "</style>\n",
       "<table border=\"1\" class=\"dataframe\">\n",
       "  <thead>\n",
       "    <tr style=\"text-align: right;\">\n",
       "      <th></th>\n",
       "      <th>Expression in AD</th>\n",
       "      <th>Expression in SCC</th>\n",
       "      <th>Expression Difference</th>\n",
       "    </tr>\n",
       "    <tr>\n",
       "      <th>Gene</th>\n",
       "      <th></th>\n",
       "      <th></th>\n",
       "      <th></th>\n",
       "    </tr>\n",
       "  </thead>\n",
       "  <tbody>\n",
       "    <tr>\n",
       "      <th>201820_at</th>\n",
       "      <td>3.000492</td>\n",
       "      <td>10.939535</td>\n",
       "      <td>7.939043</td>\n",
       "    </tr>\n",
       "    <tr>\n",
       "      <th>206165_s_at</th>\n",
       "      <td>2.212801</td>\n",
       "      <td>9.058937</td>\n",
       "      <td>6.846136</td>\n",
       "    </tr>\n",
       "    <tr>\n",
       "      <th>232082_x_at</th>\n",
       "      <td>2.749417</td>\n",
       "      <td>9.557599</td>\n",
       "      <td>6.808183</td>\n",
       "    </tr>\n",
       "    <tr>\n",
       "      <th>213796_at</th>\n",
       "      <td>2.911232</td>\n",
       "      <td>9.560105</td>\n",
       "      <td>6.648873</td>\n",
       "    </tr>\n",
       "    <tr>\n",
       "      <th>235075_at</th>\n",
       "      <td>2.883129</td>\n",
       "      <td>9.520257</td>\n",
       "      <td>6.637128</td>\n",
       "    </tr>\n",
       "    <tr>\n",
       "      <th>209863_s_at</th>\n",
       "      <td>4.133841</td>\n",
       "      <td>10.527750</td>\n",
       "      <td>6.393910</td>\n",
       "    </tr>\n",
       "    <tr>\n",
       "      <th>217528_at</th>\n",
       "      <td>3.341643</td>\n",
       "      <td>9.645309</td>\n",
       "      <td>6.303666</td>\n",
       "    </tr>\n",
       "    <tr>\n",
       "      <th>206032_at</th>\n",
       "      <td>3.002822</td>\n",
       "      <td>9.140773</td>\n",
       "      <td>6.137951</td>\n",
       "    </tr>\n",
       "    <tr>\n",
       "      <th>206033_s_at</th>\n",
       "      <td>2.626381</td>\n",
       "      <td>8.728752</td>\n",
       "      <td>6.102371</td>\n",
       "    </tr>\n",
       "    <tr>\n",
       "      <th>221796_at</th>\n",
       "      <td>3.298267</td>\n",
       "      <td>9.387769</td>\n",
       "      <td>6.089501</td>\n",
       "    </tr>\n",
       "  </tbody>\n",
       "</table>\n",
       "</div>"
      ],
      "text/plain": [
       "             Expression in AD  Expression in SCC  Expression Difference\n",
       "Gene                                                                   \n",
       "201820_at            3.000492          10.939535               7.939043\n",
       "206165_s_at          2.212801           9.058937               6.846136\n",
       "232082_x_at          2.749417           9.557599               6.808183\n",
       "213796_at            2.911232           9.560105               6.648873\n",
       "235075_at            2.883129           9.520257               6.637128\n",
       "209863_s_at          4.133841          10.527750               6.393910\n",
       "217528_at            3.341643           9.645309               6.303666\n",
       "206032_at            3.002822           9.140773               6.137951\n",
       "206033_s_at          2.626381           8.728752               6.102371\n",
       "221796_at            3.298267           9.387769               6.089501"
      ]
     },
     "metadata": {},
     "output_type": "display_data"
    }
   ],
   "source": [
    "#Displays the largest expression differences between AD and SCC. This helps us to differentiate the largest disparities in\n",
    "#gene expression and the specific genes that are highly expressed in each respective disease.\n",
    "\n",
    "expression_diff_df = AD_expression_df.merge(SCC_expression_df, how = \"inner\")\n",
    "expression_diff_df = expression_diff_df.set_index(\"Gene\")\n",
    "expression_diff_df[\"Expression Difference\"] = abs(expression_diff_df[\"Expression in AD\"] - expression_diff_df[\"Expression in SCC\"])\n",
    "expression_diff_df = expression_diff_df.sort_values(by = \"Expression Difference\", ascending = False)\n",
    "\n",
    "print(\"The 10 largest differences in gene expression between Adenocarcinoma and Squamous Cell Carcinoma:\")\n",
    "display(expression_diff_df.head(10))"
   ]
  },
  {
   "cell_type": "markdown",
   "id": "b48017b4-dffc-4a2b-9e80-725b02d786ef",
   "metadata": {},
   "source": [
    "From the dataframe above, we can see that the largest disparities in gene expression are primarily seen in genes that are more highly expressed in Squamous Cell Carcinoma opposed to Adenocarcinoma. This dataframe can help us identify potential biomarkers/genes that are associated in these specific diseases and their onset or regulation.\n",
    "\n",
    " For example, the gene KRT5 (which corresponds to our Gene ID 201820_at in the dataframe above) has been shown to serve as a potential biomarker for differentiating Squamous Cell Carcinoma from Adenocarcinoma (https://www.ncbi.nlm.nih.gov/pmc/articles/PMC8205719/). This aligns with the ordering of our dataframe and the expression difference between SCC and AD being the highest in KRT5 (Gene ID 201820_at).\n",
    " \n",
    "In the code cells below we aimed to determine the statistical significance of these expression differences:"
   ]
  },
  {
   "cell_type": "code",
   "execution_count": 30,
   "id": "73e0c979-61d0-4ea1-a9b8-6f7d147cc1de",
   "metadata": {
    "tags": []
   },
   "outputs": [],
   "source": [
    "#Creating dataframe (SCC_expression_test_df) that contain only expression data for SCC and transposing it for clarity\n",
    "SCC_expression_test_df = expression_data_all_df.merge(clusters_all_data, how = \"inner\")\n",
    "SCC_expression_test_df = SCC_expression_test_df[SCC_expression_test_df.Type == \"Squamous Cell Carcinoma\"]\n",
    "SCC_expression_test_df = SCC_expression_test_df.drop(columns = [\"Type\", \"cluster\"])\n",
    "SCC_expression_test_df = SCC_expression_test_df.set_index(\"sample\").T\n",
    "\n",
    "#Creating dataframe (AD_expression_test_df) that contain only expression data for AD and transposing it for clarity\n",
    "AD_expression_test_df = expression_data_all_df.merge(clusters_all_data, how = \"inner\")\n",
    "AD_expression_test_df = AD_expression_test_df[AD_expression_test_df.Type == \"Adenocarcinoma\"]\n",
    "AD_expression_test_df = AD_expression_test_df.drop(columns = [\"Type\", \"cluster\"])\n",
    "AD_expression_test_df = AD_expression_test_df.set_index(\"sample\").T\n",
    "\n",
    "#SCC_expression_test_df\n",
    "#AD_expression_test_df"
   ]
  },
  {
   "cell_type": "code",
   "execution_count": 31,
   "id": "e5b3f118-5231-46a1-83d5-0d293434555d",
   "metadata": {
    "tags": []
   },
   "outputs": [],
   "source": [
    "#Creating significance_test function that calculates t-test significance (via p-value and log of p-value) iterated on each \n",
    "#sample's expression data in Adenocarcinoma vs Squamous Cell Carcinoma dataframes defined in code cells above\n",
    "\n",
    "significance_test = pd.DataFrame(index = AD_expression_test_df.index, columns= [\"statistics\",\"p_value\", \"log_p\"])\n",
    "\n",
    "for i in range(0, len(AD_expression_test_df.index)):\n",
    "    \n",
    "    statistics, p_value = ttest_ind(AD_expression_test_df.iloc[i,:], SCC_expression_test_df.iloc[i,:])\n",
    "    significance_test.iloc[i, 0] = statistics\n",
    "    significance_test.iloc[i, 1] = p_value\n",
    "    significance_test.iloc[i, 2] = np.log(p_value)\n",
    "    \n",
    "#significance_test"
   ]
  },
  {
   "cell_type": "code",
   "execution_count": 32,
   "id": "9f5c0a76-67b5-4974-9cd5-9f0eaa762e60",
   "metadata": {
    "tags": []
   },
   "outputs": [
    {
     "name": "stdout",
     "output_type": "stream",
     "text": [
      "There are 727 statistically significant p-values (95% confidence level) in our gene expression difference dataframe:\n"
     ]
    },
    {
     "data": {
      "text/html": [
       "<div>\n",
       "<style scoped>\n",
       "    .dataframe tbody tr th:only-of-type {\n",
       "        vertical-align: middle;\n",
       "    }\n",
       "\n",
       "    .dataframe tbody tr th {\n",
       "        vertical-align: top;\n",
       "    }\n",
       "\n",
       "    .dataframe thead th {\n",
       "        text-align: right;\n",
       "    }\n",
       "</style>\n",
       "<table border=\"1\" class=\"dataframe\">\n",
       "  <thead>\n",
       "    <tr style=\"text-align: right;\">\n",
       "      <th></th>\n",
       "      <th>statistics</th>\n",
       "      <th>p_value</th>\n",
       "      <th>log_p</th>\n",
       "    </tr>\n",
       "  </thead>\n",
       "  <tbody>\n",
       "    <tr>\n",
       "      <th>206033_s_at</th>\n",
       "      <td>-13.076842</td>\n",
       "      <td>0.0</td>\n",
       "      <td>-41.296085</td>\n",
       "    </tr>\n",
       "    <tr>\n",
       "      <th>206032_at</th>\n",
       "      <td>-12.887615</td>\n",
       "      <td>0.0</td>\n",
       "      <td>-40.679935</td>\n",
       "    </tr>\n",
       "    <tr>\n",
       "      <th>244107_at</th>\n",
       "      <td>-12.156412</td>\n",
       "      <td>0.0</td>\n",
       "      <td>-38.25578</td>\n",
       "    </tr>\n",
       "    <tr>\n",
       "      <th>211194_s_at</th>\n",
       "      <td>-11.593532</td>\n",
       "      <td>0.0</td>\n",
       "      <td>-36.343033</td>\n",
       "    </tr>\n",
       "    <tr>\n",
       "      <th>206166_s_at</th>\n",
       "      <td>-11.58914</td>\n",
       "      <td>0.0</td>\n",
       "      <td>-36.327948</td>\n",
       "    </tr>\n",
       "    <tr>\n",
       "      <th>...</th>\n",
       "      <td>...</td>\n",
       "      <td>...</td>\n",
       "      <td>...</td>\n",
       "    </tr>\n",
       "    <tr>\n",
       "      <th>241813_at</th>\n",
       "      <td>-5.524862</td>\n",
       "      <td>0.000001</td>\n",
       "      <td>-13.933495</td>\n",
       "    </tr>\n",
       "    <tr>\n",
       "      <th>202854_at</th>\n",
       "      <td>-5.523782</td>\n",
       "      <td>0.000001</td>\n",
       "      <td>-13.929518</td>\n",
       "    </tr>\n",
       "    <tr>\n",
       "      <th>228080_at</th>\n",
       "      <td>-5.522051</td>\n",
       "      <td>0.000001</td>\n",
       "      <td>-13.923142</td>\n",
       "    </tr>\n",
       "    <tr>\n",
       "      <th>202972_s_at</th>\n",
       "      <td>5.521717</td>\n",
       "      <td>0.000001</td>\n",
       "      <td>-13.921915</td>\n",
       "    </tr>\n",
       "    <tr>\n",
       "      <th>201250_s_at</th>\n",
       "      <td>-5.518962</td>\n",
       "      <td>0.000001</td>\n",
       "      <td>-13.911767</td>\n",
       "    </tr>\n",
       "  </tbody>\n",
       "</table>\n",
       "<p>727 rows × 3 columns</p>\n",
       "</div>"
      ],
      "text/plain": [
       "            statistics   p_value      log_p\n",
       "206033_s_at -13.076842       0.0 -41.296085\n",
       "206032_at   -12.887615       0.0 -40.679935\n",
       "244107_at   -12.156412       0.0  -38.25578\n",
       "211194_s_at -11.593532       0.0 -36.343033\n",
       "206166_s_at  -11.58914       0.0 -36.327948\n",
       "...                ...       ...        ...\n",
       "241813_at    -5.524862  0.000001 -13.933495\n",
       "202854_at    -5.523782  0.000001 -13.929518\n",
       "228080_at    -5.522051  0.000001 -13.923142\n",
       "202972_s_at   5.521717  0.000001 -13.921915\n",
       "201250_s_at  -5.518962  0.000001 -13.911767\n",
       "\n",
       "[727 rows x 3 columns]"
      ]
     },
     "execution_count": 32,
     "metadata": {},
     "output_type": "execute_result"
    }
   ],
   "source": [
    "#Calculated significance at 95% confidence level and performed Bonferroni correction for multiple hypothesis tests\n",
    "\n",
    "significance_test = significance_test.sort_values(by = \"log_p\", ascending = True)\n",
    "significance_test.head(10)\n",
    "    \n",
    "#p_value threshold\n",
    "a = 0.05\n",
    "            \n",
    "#Bonferroni correction for multiple hypotheses\n",
    "b = a / 54675\n",
    "                              \n",
    "#filter for all rows with p less than b\n",
    "significance_test_1 = significance_test.loc[significance_test[\"p_value\"] <= b,:]\n",
    "\n",
    "print(\"There are\", len(significance_test_1), \"statistically significant p-values (95% confidence level) in our gene expression difference dataframe:\")\n",
    "significance_test_1"
   ]
  },
  {
   "cell_type": "markdown",
   "id": "897335f2-f235-4e6b-a75a-0e2e42d38624",
   "metadata": {},
   "source": [
    "The dataframe above helps us order the statistically significant gene expression differences in Adenocarcinoma vs Squamous Cell Carcinoma in each sample. We calculated the log_p-value in order to ensure that our p-value calculations are being ordered correctly despite the display limitation of decimal points in the p_value column. This dataframe supports our previous findings from the gene expression difference dataframe (expression_diff_df) by adding statistical signficance to each Gene ID.\n",
    "\n",
    "The most statistically significant expression difference is found in Gene ID 206033_s_at, which correlates to the gene DSC3 and has been identified previously in literature specifically to differentiate squamous lung cancer from adenocarcinoma lung cancer (https://aacrjournals.org/cancerres/article/83/7_Supplement/881/719937/Abstract-881-Desmocollin-3-and-tumor-immune). This further supports the realistic application of our new implementation as an identifier of potential biomarkers in Adenocarcinoma and Squamous Cell Carcinoma."
   ]
  }
 ],
 "metadata": {
  "kernelspec": {
   "display_name": "Python 3 (ipykernel)",
   "language": "python",
   "name": "python3"
  },
  "language_info": {
   "codemirror_mode": {
    "name": "ipython",
    "version": 3
   },
   "file_extension": ".py",
   "mimetype": "text/x-python",
   "name": "python",
   "nbconvert_exporter": "python",
   "pygments_lexer": "ipython3",
   "version": "3.11.4"
  }
 },
 "nbformat": 4,
 "nbformat_minor": 5
}
